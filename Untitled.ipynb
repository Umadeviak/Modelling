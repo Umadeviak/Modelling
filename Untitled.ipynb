{
 "cells": [
  {
   "cell_type": "code",
   "execution_count": 1,
   "id": "677db03b-5fed-47f4-8d0f-99fc769300db",
   "metadata": {},
   "outputs": [
    {
     "name": "stdout",
     "output_type": "stream",
     "text": [
      "[[ 4.04836854e+00 -2.67724481e+00  2.11332947e+00 ...  8.17524462e-01\n",
      "  -3.15597168e+00  4.33604140e+00]\n",
      " [ 1.15682898e+00  7.52943571e-01 -1.03038727e+01 ...  1.19066787e+00\n",
      "   1.58240699e+01  5.22029877e+00]\n",
      " [-4.95770878e-01  7.74616621e+00 -1.01731011e+01 ...  3.78330001e+00\n",
      "   1.05086732e+01  1.16407444e+01]\n",
      " ...\n",
      " [-6.31409629e-01 -4.20494222e-01 -1.74791921e+00 ... -3.01213690e+00\n",
      "  -5.59288278e+00  6.03116404e+00]\n",
      " [-2.72940069e+00 -1.30634521e+00  4.19694132e+00 ... -2.32566114e+00\n",
      "   3.52498671e+00 -7.00451448e+00]\n",
      " [-4.38521322e-01  7.44788426e-03  1.97486928e-01 ... -2.53455664e+00\n",
      "  -7.42659183e-01  2.32133225e+00]] [1 0 0 1 0 0 1 0 1 1 0 1 0 0 0 1 0 1 0 1 1 1 1 0 1 1 1 0 1 1 1 1 0 1 1 1 1\n",
      " 1 0 0 0 1 0 1 0 0 0 1 1 0 0 1 1 0 1 0 0 1 0 0 0 0 1 0 1 0 1 0 1 1 0 1 1 1\n",
      " 0 1 0 0 1 0 1 0 0 0 0 1 1 0 0 0 1 0 0 1 0 1 0 0 0 1]\n"
     ]
    }
   ],
   "source": [
    "from sklearn.datasets import make_classification\n",
    "from sklearn.gaussian_process import GaussianProcessClassifier\n",
    "# define dataset\n",
    "X, y = make_classification(n_samples=100, n_features=20, n_informative=15, n_redundant=5, random_state=1)\n",
    "print(X,y)\n"
   ]
  },
  {
   "cell_type": "code",
   "execution_count": null,
   "id": "e28a810c-fe14-41dd-89f9-8671d0b19412",
   "metadata": {},
   "outputs": [],
   "source": [
    "# define model\n",
    "model = GaussianProcessClassifier()\n",
    "# fit model\n",
    "model.fit(X, y)\n",
    "# define new data\n",
    "row = [2.47475454,0.40165523,1.68081787,2.88940715,0.91704519,-3.07950644,4.39961206,0.72464273,-4.86563631,-6.06338084,-1.22209949,-0.4699618,1.01222748,-0.6899355,-0.53000581,6.86966784,-3.27211075,-6.59044146,-2.21290585,-3.139579]\n",
    "# make a prediction\n",
    "yhat = model.predict([row])\n",
    "# summarize prediction\n",
    "print('Predicted Class: %d' % yhat)"
   ]
  }
 ],
 "metadata": {
  "kernelspec": {
   "display_name": "Python 3",
   "language": "python",
   "name": "python3"
  },
  "language_info": {
   "codemirror_mode": {
    "name": "ipython",
    "version": 3
   },
   "file_extension": ".py",
   "mimetype": "text/x-python",
   "name": "python",
   "nbconvert_exporter": "python",
   "pygments_lexer": "ipython3",
   "version": "3.8.8"
  }
 },
 "nbformat": 4,
 "nbformat_minor": 5
}
